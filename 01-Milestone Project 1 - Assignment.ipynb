{
 "cells": [
  {
   "cell_type": "markdown",
   "metadata": {},
   "source": [
    "___\n",
    "\n",
    "<a href='https://www.udemy.com/user/joseportilla/'><img src='../Pierian_Data_Logo.png'/></a>\n",
    "___\n",
    "<center><em>Content Copyright by Pierian Data</em></center>"
   ]
  },
  {
   "cell_type": "markdown",
   "metadata": {},
   "source": [
    "# Milestone Project 1\n",
    "## Congratulations on making it to your first milestone!\n",
    "You've already learned a ton and are ready to work on a real project.\n",
    "\n",
    "Your assignment: Create a Tic Tac Toe game. You are free to use any IDE you like.\n",
    "\n",
    "Here are the requirements:\n",
    "\n",
    "* 2 players should be able to play the game (both sitting at the same computer)\n",
    "* The board should be printed out every time a player makes a move\n",
    "* You should be able to accept input of the player position and then place a symbol on the board\n",
    "\n",
    "Feel free to use Google to help you figure anything out (but don't just Google \"Tic Tac Toe in Python\" otherwise you won't learn anything!) Keep in mind that this project can take anywhere between several hours to several days.\n",
    "\n",
    "There are 4 Jupyter Notebooks related to this assignment:\n",
    "\n",
    "* This Assignment Notebook\n",
    "* A \"Walkthrough Steps Workbook\" Notebook\n",
    "* A \"Complete Walkthrough Solution\" Notebook\n",
    "* An \"Advanced Solution\" Notebook\n",
    "\n",
    "I encourage you to just try to start the project on your own without referencing any of the notebooks. If you get stuck, check out the next lecture which is a text lecture with helpful hints and steps. If you're still stuck after that, then check out the Walkthrough Steps Workbook, which breaks up the project in steps for you to solve. Still stuck? Then check out the Complete Walkthrough Solution video for more help on approaching the project!"
   ]
  },
  {
   "cell_type": "markdown",
   "metadata": {},
   "source": [
    "There are parts of this that will be a struggle...and that is good! I have complete faith that if you have made it this far through the course you have all the tools and knowledge to tackle this project. Remember, it's totally open book, so take your time, do a little research, and remember:\n",
    "\n",
    "## HAVE FUN!"
   ]
  },
  {
   "cell_type": "code",
   "execution_count": 1,
   "metadata": {},
   "outputs": [],
   "source": [
    "from IPython.display import clear_output"
   ]
  },
  {
   "cell_type": "code",
   "execution_count": 2,
   "metadata": {},
   "outputs": [],
   "source": [
    "def display_board(board, player):\n",
    "    '''\n",
    "    Function to take in the list that stores the X's and O's and prints it to the console\n",
    "        - Additionally takes in current player value and outputs that above the board\n",
    "    '''\n",
    "    clear_output()\n",
    "    if player == 1:\n",
    "        print(\"Player: X\\n\\n\")\n",
    "        \n",
    "    elif player == 0:\n",
    "        print(\"Player: O\\n\\n\")\n",
    "        \n",
    "    print(f\"\\t{board[0]}\\t|\\t{board[1]}\\t|\\t{board[2]}\")\n",
    "    print(\"-------------------------------------------------\")\n",
    "    print(f\"\\t{board[3]}\\t|\\t{board[4]}\\t|\\t{board[5]}\")\n",
    "    print(\"-------------------------------------------------\")\n",
    "    print(f\"\\t{board[6]}\\t|\\t{board[7]}\\t|\\t{board[8]}\")"
   ]
  },
  {
   "cell_type": "code",
   "execution_count": 3,
   "metadata": {},
   "outputs": [],
   "source": [
    "def position_selection():\n",
    "    '''\n",
    "    Prompting the player to select a position to place their X or O\n",
    "    '''\n",
    "    \n",
    "    pos_choice = 'a' # Initially set to a \"non-int\" value to trigger the while loop to start\n",
    "    \n",
    "    while pos_choice.isdigit() == False:\n",
    "        pos_choice = input(\"Position Choice: \")\n",
    "        \n",
    "        \n",
    "        if pos_choice.isdigit() == False:\n",
    "            clear_output()\n",
    "            print(\"Please try again.\")\n",
    "    \n",
    "    return(int(pos_choice)) # Retuurning the position choice cast to an int because 'input()' returns a string"
   ]
  },
  {
   "cell_type": "code",
   "execution_count": 4,
   "metadata": {},
   "outputs": [],
   "source": [
    "def board_manager(player, position, board, marker):\n",
    "    '''\n",
    "    Takes care of placing the 'X' or 'O' on the board at the selected location based on if player is set to '1' or '0'\n",
    "    '''\n",
    "    \n",
    "    if player == 1:\n",
    "        board[position - 1] = 'X'\n",
    "        \n",
    "    elif player == 0:\n",
    "        board[position - 1] = 'O'\n",
    "        \n",
    "    return (board) # Returns the updated board"
   ]
  },
  {
   "cell_type": "code",
   "execution_count": 5,
   "metadata": {},
   "outputs": [],
   "source": [
    "def player_manager(player):\n",
    "    '''\n",
    "    Alternates back and forth between players\n",
    "    '''\n",
    "    \n",
    "    if player == 1:\n",
    "        return (player - 1)\n",
    "    else:\n",
    "        return (player + 1)"
   ]
  },
  {
   "cell_type": "code",
   "execution_count": 6,
   "metadata": {},
   "outputs": [],
   "source": [
    "def win_checker(board):\n",
    "    '''\n",
    "    Checks to determine if the game is in an end state or not and returns the winner\n",
    "    '''\n",
    "    \n",
    "    # Horizontal Win\n",
    "    for i in range(0, 7, 3):\n",
    "        if board[i] == board[i+1] and board[i+1] == board[i+2]:\n",
    "            return(board[i])\n",
    "    \n",
    "    # Vertical Win    \n",
    "    for i in range(0, 3):\n",
    "        if board[i] == board[i+3] and board[i+3] == board[i+6]:\n",
    "            return(board[i])\n",
    "    \n",
    "    # These are both for the diagonals    \n",
    "    if board[0] == board[4] and board[4] == board[8]:\n",
    "        return(board[0])\n",
    "    \n",
    "    elif board[2] == board[4] and board[4] == board[6]:\n",
    "        return(board[2])\n",
    "    \n",
    "    return False"
   ]
  },
  {
   "cell_type": "code",
   "execution_count": null,
   "metadata": {},
   "outputs": [],
   "source": [
    "def marker_selection():\n",
    "    '''\n",
    "    Allows the user to select whether they want to play as X or O\n",
    "    '''\n",
    "    print(\"X: 1 O: 0\\n\\n\")\n",
    "    return int(input(\"Player One Choose: \"))"
   ]
  },
  {
   "cell_type": "code",
   "execution_count": null,
   "metadata": {},
   "outputs": [],
   "source": [
    "# Driver Code\n",
    "\n",
    "board = ['1', '2', '3', '4', '5', '6', '7', '8', '9']\n",
    "player = marker_selection()\n",
    "\n",
    "while win_checker(board) == False:\n",
    "    display_board(board, player)\n",
    "    position = position_selection()\n",
    "    board = board_manager(player, position, board, 'X')\n",
    "    player = player_manager(player)\n",
    "\n",
    "else:\n",
    "    clear_output()\n",
    "    display_board(board, player)\n",
    "    print(f\"Player {win_checker(board)} wins!\")\n",
    "    \n"
   ]
  }
 ],
 "metadata": {
  "kernelspec": {
   "display_name": "Python 3",
   "language": "python",
   "name": "python3"
  },
  "language_info": {
   "codemirror_mode": {
    "name": "ipython",
    "version": 3
   },
   "file_extension": ".py",
   "mimetype": "text/x-python",
   "name": "python",
   "nbconvert_exporter": "python",
   "pygments_lexer": "ipython3",
   "version": "3.8.5"
  }
 },
 "nbformat": 4,
 "nbformat_minor": 1
}
